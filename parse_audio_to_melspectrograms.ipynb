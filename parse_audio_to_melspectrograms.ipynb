{
 "cells": [
  {
   "cell_type": "code",
   "execution_count": 7,
   "id": "0b7a7c06",
   "metadata": {},
   "outputs": [],
   "source": [
    "import os\n",
    "import librosa\n",
    "import warnings\n",
    "import numpy as np\n",
    "import pandas as pd\n",
    "from tqdm import tqdm\n",
    "import librosa.display\n",
    "import matplotlib.pyplot as plt"
   ]
  },
  {
   "cell_type": "code",
   "execution_count": 8,
   "id": "d7963be5",
   "metadata": {},
   "outputs": [],
   "source": [
    "SOURCE = \"training\" # \"test\"\n",
    "DATA_DIR = f\"data/\"\n",
    "ANNOTATION_CSV = f'data/{SOURCE}.csv'\n",
    "OUTPUT_DIR = f'data/{SOURCE}_melspectrogram_images'\n",
    "PATH_COL = 'path'\n",
    "LABEL_COL = 'label'\n",
    "\n",
    "# Mel Spectrogram Parameters\n",
    "TARGET_SR = 22050      # Target Sampling Rate to resample audio to\n",
    "N_FFT = 2048           # FFT window size\n",
    "HOP_LENGTH = 512       # Hop length for STFT\n",
    "N_MELS = 128           # Number of Mel bands\n",
    "FIG_SIZE = (1, 1)      # IMG Resolution\n",
    "IMG_DPI = 100"
   ]
  },
  {
   "cell_type": "code",
   "execution_count": 9,
   "id": "15b25953",
   "metadata": {},
   "outputs": [],
   "source": [
    "def create_mel_spectrogram(audio_path, sr, n_fft, hop_length, n_mels):\n",
    "    try:\n",
    "        y, _ = librosa.load(audio_path, sr=sr)\n",
    "        S = librosa.feature.melspectrogram(y=y, sr=sr, n_fft=n_fft, hop_length=hop_length, n_mels=n_mels)\n",
    "        S_db = librosa.power_to_db(S, ref=np.max)\n",
    "        return S_db\n",
    "    except Exception as e:\n",
    "        warnings.warn(f\"Could not process {audio_path}. Error: {e}\")\n",
    "        return None\n",
    "    \n",
    "def save_spectrogram_image(spec_data, output_path, sr, hop_length, figsize, dpi):\n",
    "    plt.figure(figsize=figsize)\n",
    "    librosa.display.specshow(spec_data, sr=sr, hop_length=hop_length, x_axis=None, y_axis=None)\n",
    "    plt.axis('off')\n",
    "    plt.tight_layout(pad=0)\n",
    "    plt.savefig(output_path, dpi=dpi, bbox_inches='tight', pad_inches=0)\n",
    "    plt.close()"
   ]
  },
  {
   "cell_type": "code",
   "execution_count": 10,
   "id": "361e864f",
   "metadata": {},
   "outputs": [
    {
     "name": "stdout",
     "output_type": "stream",
     "text": [
      "Output directory: c:\\Users\\duina\\repo\\diploma\\data\\training_melspectrogram_images\n"
     ]
    }
   ],
   "source": [
    "os.makedirs(OUTPUT_DIR, exist_ok=True)\n",
    "print(f\"Output directory: {os.path.abspath(OUTPUT_DIR)}\")"
   ]
  },
  {
   "cell_type": "code",
   "execution_count": 11,
   "id": "898c680a",
   "metadata": {},
   "outputs": [
    {
     "name": "stderr",
     "output_type": "stream",
     "text": [
      "100%|██████████| 6429/6429 [12:25<00:00,  8.63it/s]\n"
     ]
    }
   ],
   "source": [
    "annotations_df = pd.read_csv(ANNOTATION_CSV)\n",
    "for index, row in tqdm(annotations_df.iterrows(), total=annotations_df.shape[0]):\n",
    "    relative_audio_path = row[PATH_COL]\n",
    "    label = row[LABEL_COL]\n",
    "\n",
    "    full_audio_path = os.path.join(DATA_DIR, relative_audio_path)\n",
    "    mel_spec_db = create_mel_spectrogram(full_audio_path, TARGET_SR, N_FFT, HOP_LENGTH, N_MELS)\n",
    "\n",
    "    if mel_spec_db is not None:\n",
    "\n",
    "        labels_safety = {4,0,2} # vehicle, communication, footsteps\n",
    "        labels_danger = {1,3,5,6} # gunshot, shelling, helicopter, fighter\n",
    "\n",
    "        if label in labels_safety:\n",
    "            new_label = 0 # safety / regular sound\n",
    "        else:\n",
    "            new_label = 1 # danger / alarm sound\n",
    "\n",
    "        output_filename = f\"id{index}_label{new_label}.png\"\n",
    "        output_path = os.path.join(OUTPUT_DIR, output_filename)\n",
    "        save_spectrogram_image(mel_spec_db, output_path, TARGET_SR, HOP_LENGTH, FIG_SIZE, IMG_DPI)"
   ]
  }
 ],
 "metadata": {
  "kernelspec": {
   "display_name": "Python 3",
   "language": "python",
   "name": "python3"
  },
  "language_info": {
   "codemirror_mode": {
    "name": "ipython",
    "version": 3
   },
   "file_extension": ".py",
   "mimetype": "text/x-python",
   "name": "python",
   "nbconvert_exporter": "python",
   "pygments_lexer": "ipython3",
   "version": "3.12.4"
  }
 },
 "nbformat": 4,
 "nbformat_minor": 5
}
