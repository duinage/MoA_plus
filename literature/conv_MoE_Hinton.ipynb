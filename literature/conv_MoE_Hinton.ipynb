{
  "cells": [
    {
      "cell_type": "code",
      "execution_count": 2,
      "metadata": {
        "id": "ZEWcB9mRChb3"
      },
      "outputs": [],
      "source": [
        "import numpy as np\n",
        "import matplotlib.pyplot as plt\n",
        "\n",
        "import tensorflow as tf\n",
        "from tensorflow.keras.layers import Input, Dense, Flatten, Reshape, Conv2D, UpSampling2D, MaxPooling2D\n",
        "\n",
        "from tensorflow.keras.datasets import mnist\n",
        "from sklearn.model_selection import train_test_split"
      ]
    },
    {
      "cell_type": "code",
      "execution_count": 3,
      "metadata": {
        "colab": {
          "base_uri": "https://localhost:8080/",
          "height": 447
        },
        "id": "Kbt0mgEQCnwS",
        "outputId": "991329d1-30e1-4394-f0f1-9e90a735c362"
      },
      "outputs": [
        {
          "data": {
            "text/plain": [
              "<matplotlib.image.AxesImage at 0x24fcbae3b90>"
            ]
          },
          "execution_count": 3,
          "metadata": {},
          "output_type": "execute_result"
        },
        {
          "data": {
            "image/png": "[encoded data removed]",
            "text/plain": [
              "<Figure size 640x480 with 1 Axes>"
            ]
          },
          "metadata": {},
          "output_type": "display_data"
        }
      ],
      "source": [
        "(x_train, y_train), (x_test, y_test) = mnist.load_data()\n",
        "x_train = x_train.astype('float32') / 255.0\n",
        "x_test = x_test.astype('float32') / 255.0\n",
        "\n",
        "x_train = np.expand_dims(x_train, axis=-1)\n",
        "x_test = np.expand_dims(x_test, axis=-1)\n",
        "\n",
        "plt.imshow(x_train[-1])"
      ]
    },
    {
      "cell_type": "code",
      "execution_count": 4,
      "metadata": {
        "id": "M1JkNEWTD9zY"
      },
      "outputs": [],
      "source": [
        "class MixtureOfExperts(tf.keras.Model):\n",
        "    def __init__(self, input_dim, num_clusters):\n",
        "        super().__init__()\n",
        "        self.input_dim = input_dim\n",
        "        self.num_experts = num_clusters # suggestion that #clusters == #experts\n",
        "\n",
        "        self.experts = [self.build_expert() for _ in range(self.num_experts)]\n",
        "        self.gate = self.build_gate()\n",
        "\n",
        "    def call(self, inputs):\n",
        "        expert_outputs = [expert(inputs) for expert in self.experts]\n",
        "        gate_output = self.gate(inputs)\n",
        "        weighted_expert_outputs = [tf.multiply(expert_output, tf.expand_dims(gate_output[:, i], axis=1))\n",
        "                                   for i, expert_output in enumerate(expert_outputs)]\n",
        "        aggregated_output = tf.reduce_sum(weighted_expert_outputs, axis=0)\n",
        "        return aggregated_output\n",
        "\n",
        "    def build_expert(self):\n",
        "        \"\"\" Conv Autoencoder. \"\"\"\n",
        "        # Encoder\n",
        "        inputs = Input(shape=self.input_dim)\n",
        "        x = Conv2D(32, (3, 3), activation=\"relu\", padding=\"same\")(inputs)\n",
        "        x = MaxPooling2D((2, 2), padding=\"same\")(x)\n",
        "        x = Conv2D(32, (3, 3), activation=\"relu\", padding=\"same\")(x)\n",
        "        x = MaxPooling2D((2, 2), padding=\"same\")(x)\n",
        "        x = Conv2D(32, (3, 3), activation=\"relu\", padding=\"same\")(x)\n",
        "        x = MaxPooling2D((2, 2), padding=\"same\")(x)\n",
        "        x = Flatten()(x)\n",
        "        latent_space = Dense(10, activation=\"relu\")(x)\n",
        "\n",
        "        # Decoder\n",
        "        x = Dense(4 * 4 * 32, activation=\"relu\")(latent_space)\n",
        "        x = Reshape((4, 4, 32))(x)\n",
        "        x = Conv2D(32, (3, 3), activation=\"relu\", padding=\"same\")(x)\n",
        "        x = UpSampling2D((2, 2))(x)\n",
        "        x = Conv2D(32, (3, 3), activation=\"relu\", padding=\"same\")(x)\n",
        "        x = UpSampling2D((2, 2))(x)\n",
        "        x = Conv2D(32, (3, 3), activation=\"relu\", padding=\"valid\")(x)\n",
        "        x = UpSampling2D((2, 2))(x)\n",
        "        outputs = Conv2D(1, (3, 3), activation=\"sigmoid\", padding=\"same\")(x)\n",
        "\n",
        "        # Autoencoder\n",
        "        model = tf.keras.Model(inputs=inputs, outputs=outputs)\n",
        "        return model\n",
        "\n",
        "    def build_gate(self):\n",
        "        inputs = Input(shape=self.input_dim)\n",
        "        x = Dense(self.num_experts, activation='softmax')(inputs)\n",
        "        model = tf.keras.Model(inputs=inputs, outputs=x)\n",
        "        return model\n",
        "\n",
        "\n",
        "input_dim = (28,28,1)\n",
        "num_clusters = 10\n",
        "\n",
        "model = MixtureOfExperts(input_dim, num_clusters)\n",
        "model.compile(optimizer='adam', loss='mse', metrics=['mse'])"
      ]
    },
    {
      "cell_type": "code",
      "execution_count": 5,
      "metadata": {
        "colab": {
          "base_uri": "https://localhost:8080/"
        },
        "id": "nLYjSug3FdSz",
        "outputId": "30d20304-7d67-449f-aeef-c848bddd5ebd"
      },
      "outputs": [
        {
          "name": "stdout",
          "output_type": "stream",
          "text": [
            "\u001b[1m10000/10000\u001b[0m \u001b[32m━━━━━━━━━━━━━━━━━━━━\u001b[0m\u001b[37m\u001b[0m \u001b[1m322s\u001b[0m 30ms/step - loss: 0.0744 - mse: 0.0744 - val_loss: 0.0731 - val_mse: 0.0731\n"
          ]
        }
      ],
      "source": [
        "history = model.fit(\n",
        "    x_train, x_train,\n",
        "    epochs=1,\n",
        "    batch_size=6,\n",
        "    validation_data=(x_test, x_test)\n",
        ")"
      ]
    },
    {
      "cell_type": "code",
      "execution_count": 10,
      "metadata": {
        "colab": {
          "base_uri": "https://localhost:8080/"
        },
        "id": "DAbV18RzOOPk",
        "outputId": "ae571c75-23d8-4b0f-f240-6778b20b34ae"
      },
      "outputs": [
        {
          "name": "stdout",
          "output_type": "stream",
          "text": [
            "\u001b[1m313/313\u001b[0m \u001b[32m━━━━━━━━━━━━━━━━━━━━\u001b[0m\u001b[37m\u001b[0m \u001b[1m9s\u001b[0m 29ms/step - loss: 0.0685 - mse: 0.0685\n",
            "Test MSE Loss: [0.07310072332620621, 0.07310071587562561]\n",
            "\u001b[1m1/1\u001b[0m \u001b[32m━━━━━━━━━━━━━━━━━━━━\u001b[0m\u001b[37m\u001b[0m \u001b[1m0s\u001b[0m 39ms/step\n",
            "\u001b[1m1/1\u001b[0m \u001b[32m━━━━━━━━━━━━━━━━━━━━\u001b[0m\u001b[37m\u001b[0m \u001b[1m0s\u001b[0m 30ms/step\n"
          ]
        }
      ],
      "source": [
        "print(\"Test MSE Loss:\", model.evaluate(x_test, x_test))\n",
        "\n",
        "data_to_show = x_test[:10]\n",
        "decoded_imgs = model.predict(data_to_show)\n",
        "gate_output = model.gate.predict(data_to_show)"
      ]
    },
    {
      "cell_type": "code",
      "execution_count": 11,
      "metadata": {
        "colab": {
          "base_uri": "https://localhost:8080/",
          "height": 447
        },
        "id": "NZxt8QxLDE3i",
        "outputId": "d4a44915-b106-469c-a68f-4ba8cdfb0902"
      },
      "outputs": [
        {
          "data": {
            "text/plain": [
              "<matplotlib.image.AxesImage at 0x24f84dcb350>"
            ]
          },
          "execution_count": 11,
          "metadata": {},
          "output_type": "execute_result"
        },
        {
          "data": {
            "image/png": "[encoded data removed]",
            "text/plain": [
              "<Figure size 640x480 with 1 Axes>"
            ]
          },
          "metadata": {},
          "output_type": "display_data"
        }
      ],
      "source": [
        "im = decoded_imgs[0]\n",
        "im = np.mean(im, axis=2)\n",
        "plt.imshow(im)"
      ]
    },
    {
      "cell_type": "code",
      "execution_count": 8,
      "metadata": {
        "colab": {
          "base_uri": "https://localhost:8080/",
          "height": 276
        },
        "id": "lKEAFzijAcb0",
        "outputId": "0bb43326-79a7-4f7f-9c27-e54d1ccfee52"
      },
      "outputs": [
        {
          "data": {
            "image/png": "[encoded data removed]",
            "text/plain": [
              "<Figure size 2000x400 with 20 Axes>"
            ]
          },
          "metadata": {},
          "output_type": "display_data"
        }
      ],
      "source": [
        "plt.figure(figsize=(20, 4))\n",
        "for i in range(10):\n",
        "    # Original\n",
        "    plt.subplot(2, 10, i + 1)\n",
        "    plt.imshow(x_test[i].squeeze())\n",
        "    plt.axis('off')\n",
        "\n",
        "    # Reconstructed\n",
        "    plt.subplot(2, 10, i + 11)\n",
        "    im = decoded_imgs[i]\n",
        "    im = np.mean(im, axis=2)\n",
        "    indx = np.argmax(gate_output[i])\n",
        "    plt.title(f\"#{indx}\")\n",
        "    plt.imshow(im)\n",
        "    plt.axis('off')\n",
        "\n",
        "plt.show()\n"
      ]
    },
    {
      "cell_type": "code",
      "execution_count": 9,
      "metadata": {
        "id": "fjVSip50P03D"
      },
      "outputs": [
        {
          "name": "stdout",
          "output_type": "stream",
          "text": [
            "\u001b[1m313/313\u001b[0m \u001b[32m━━━━━━━━━━━━━━━━━━━━\u001b[0m\u001b[37m\u001b[0m \u001b[1m0s\u001b[0m 1ms/step\n"
          ]
        },
        {
          "data": {
            "text/plain": [
              "array([[[0, 0, 0, ..., 0, 0, 0],\n",
              "        [0, 0, 0, ..., 0, 0, 0],\n",
              "        [0, 0, 0, ..., 0, 0, 0],\n",
              "        ...,\n",
              "        [0, 0, 0, ..., 0, 0, 0],\n",
              "        [0, 0, 0, ..., 0, 0, 0],\n",
              "        [0, 0, 0, ..., 0, 0, 0]],\n",
              "\n",
              "       [[0, 0, 0, ..., 0, 0, 0],\n",
              "        [0, 0, 0, ..., 0, 0, 0],\n",
              "        [0, 0, 0, ..., 0, 0, 0],\n",
              "        ...,\n",
              "        [0, 0, 0, ..., 0, 0, 0],\n",
              "        [0, 0, 0, ..., 0, 0, 0],\n",
              "        [0, 0, 0, ..., 0, 0, 0]],\n",
              "\n",
              "       [[0, 0, 0, ..., 0, 0, 0],\n",
              "        [0, 0, 0, ..., 0, 0, 0],\n",
              "        [0, 0, 0, ..., 0, 0, 0],\n",
              "        ...,\n",
              "        [0, 0, 0, ..., 0, 0, 0],\n",
              "        [0, 0, 0, ..., 0, 0, 0],\n",
              "        [0, 0, 0, ..., 0, 0, 0]],\n",
              "\n",
              "       ...,\n",
              "\n",
              "       [[0, 0, 0, ..., 0, 0, 0],\n",
              "        [0, 0, 0, ..., 0, 0, 0],\n",
              "        [0, 0, 0, ..., 0, 0, 0],\n",
              "        ...,\n",
              "        [0, 0, 0, ..., 0, 0, 0],\n",
              "        [0, 0, 0, ..., 0, 0, 0],\n",
              "        [0, 0, 0, ..., 0, 0, 0]],\n",
              "\n",
              "       [[0, 0, 0, ..., 0, 0, 0],\n",
              "        [0, 0, 0, ..., 0, 0, 0],\n",
              "        [0, 0, 0, ..., 0, 0, 0],\n",
              "        ...,\n",
              "        [0, 0, 0, ..., 0, 0, 0],\n",
              "        [0, 0, 0, ..., 0, 0, 0],\n",
              "        [0, 0, 0, ..., 0, 0, 0]],\n",
              "\n",
              "       [[0, 0, 0, ..., 0, 0, 0],\n",
              "        [0, 0, 0, ..., 0, 0, 0],\n",
              "        [0, 0, 0, ..., 0, 0, 0],\n",
              "        ...,\n",
              "        [0, 0, 0, ..., 0, 0, 0],\n",
              "        [0, 0, 0, ..., 0, 0, 0],\n",
              "        [0, 0, 0, ..., 0, 0, 0]]])"
            ]
          },
          "execution_count": 9,
          "metadata": {},
          "output_type": "execute_result"
        }
      ],
      "source": [
        "gate_output = model.gate.predict(x_test)\n",
        "assigned_clusters = np.argmax(gate_output, axis=1)\n",
        "assigned_clusters"
      ]
    }
  ],
  "metadata": {
    "colab": {
      "provenance": []
    },
    "kernelspec": {
      "display_name": "Python 3",
      "name": "python3"
    },
    "language_info": {
      "codemirror_mode": {
        "name": "ipython",
        "version": 3
      },
      "file_extension": ".py",
      "mimetype": "text/x-python",
      "name": "python",
      "nbconvert_exporter": "python",
      "pygments_lexer": "ipython3",
      "version": "3.12.4"
    }
  },
  "nbformat": 4,
  "nbformat_minor": 0
}
